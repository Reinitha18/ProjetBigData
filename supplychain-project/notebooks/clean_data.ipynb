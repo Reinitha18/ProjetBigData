{
 "cells": [
  {
   "cell_type": "code",
   "execution_count": null,
   "id": "aa515688",
   "metadata": {
    "vscode": {
     "languageId": "plaintext"
    }
   },
   "outputs": [],
   "source": [
    "# notebooks/clean_data.ipynb (ou .py)\n",
    "import pandas as pd\n",
    "df = pd.read_csv('data/raw/sales.csv', parse_dates=['date'])\n",
    "df = df.sort_values('date')\n",
    "# vérifier valeurs manquantes\n",
    "print(df.isna().sum())\n",
    "# ex : interpolation simple si manquant\n",
    "df['sales'] = df['sales'].interpolate()\n",
    "# sauvegarder\n",
    "df.to_csv('data/clean/sales_clean.csv', index=False)\n"
   ]
  }
 ],
 "metadata": {
  "language_info": {
   "name": "python"
  }
 },
 "nbformat": 4,
 "nbformat_minor": 5
}
